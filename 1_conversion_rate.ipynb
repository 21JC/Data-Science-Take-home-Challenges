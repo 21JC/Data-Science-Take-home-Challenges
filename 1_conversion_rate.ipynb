{
 "cells": [
  {
   "cell_type": "code",
   "execution_count": 1,
   "id": "e8bfb1a5",
   "metadata": {},
   "outputs": [],
   "source": [
    "import pandas as pd\n",
    "import seaborn as sns\n",
    "import matplotlib.pyplot as plt\n",
    "import numpy as np"
   ]
  },
  {
   "cell_type": "markdown",
   "id": "68ac4826",
   "metadata": {},
   "source": [
    "# Exploratory analysis"
   ]
  },
  {
   "cell_type": "code",
   "execution_count": 73,
   "id": "b45e7d68",
   "metadata": {},
   "outputs": [],
   "source": [
    "df = pd.read_csv('conversion_data.csv')"
   ]
  },
  {
   "cell_type": "code",
   "execution_count": 74,
   "id": "08ddc87b",
   "metadata": {},
   "outputs": [
    {
     "data": {
      "text/html": [
       "<div>\n",
       "<style scoped>\n",
       "    .dataframe tbody tr th:only-of-type {\n",
       "        vertical-align: middle;\n",
       "    }\n",
       "\n",
       "    .dataframe tbody tr th {\n",
       "        vertical-align: top;\n",
       "    }\n",
       "\n",
       "    .dataframe thead th {\n",
       "        text-align: right;\n",
       "    }\n",
       "</style>\n",
       "<table border=\"1\" class=\"dataframe\">\n",
       "  <thead>\n",
       "    <tr style=\"text-align: right;\">\n",
       "      <th></th>\n",
       "      <th>country</th>\n",
       "      <th>age</th>\n",
       "      <th>new_user</th>\n",
       "      <th>source</th>\n",
       "      <th>total_pages_visited</th>\n",
       "      <th>converted</th>\n",
       "    </tr>\n",
       "  </thead>\n",
       "  <tbody>\n",
       "    <tr>\n",
       "      <th>0</th>\n",
       "      <td>UK</td>\n",
       "      <td>25</td>\n",
       "      <td>1</td>\n",
       "      <td>Ads</td>\n",
       "      <td>1</td>\n",
       "      <td>0</td>\n",
       "    </tr>\n",
       "    <tr>\n",
       "      <th>1</th>\n",
       "      <td>US</td>\n",
       "      <td>23</td>\n",
       "      <td>1</td>\n",
       "      <td>Seo</td>\n",
       "      <td>5</td>\n",
       "      <td>0</td>\n",
       "    </tr>\n",
       "    <tr>\n",
       "      <th>2</th>\n",
       "      <td>US</td>\n",
       "      <td>28</td>\n",
       "      <td>1</td>\n",
       "      <td>Seo</td>\n",
       "      <td>4</td>\n",
       "      <td>0</td>\n",
       "    </tr>\n",
       "    <tr>\n",
       "      <th>3</th>\n",
       "      <td>China</td>\n",
       "      <td>39</td>\n",
       "      <td>1</td>\n",
       "      <td>Seo</td>\n",
       "      <td>5</td>\n",
       "      <td>0</td>\n",
       "    </tr>\n",
       "    <tr>\n",
       "      <th>4</th>\n",
       "      <td>US</td>\n",
       "      <td>30</td>\n",
       "      <td>1</td>\n",
       "      <td>Seo</td>\n",
       "      <td>6</td>\n",
       "      <td>0</td>\n",
       "    </tr>\n",
       "  </tbody>\n",
       "</table>\n",
       "</div>"
      ],
      "text/plain": [
       "  country  age  new_user source  total_pages_visited  converted\n",
       "0      UK   25         1    Ads                    1          0\n",
       "1      US   23         1    Seo                    5          0\n",
       "2      US   28         1    Seo                    4          0\n",
       "3   China   39         1    Seo                    5          0\n",
       "4      US   30         1    Seo                    6          0"
      ]
     },
     "execution_count": 74,
     "metadata": {},
     "output_type": "execute_result"
    }
   ],
   "source": [
    "df.head()"
   ]
  },
  {
   "cell_type": "code",
   "execution_count": 75,
   "id": "2eeee607",
   "metadata": {},
   "outputs": [
    {
     "data": {
      "text/html": [
       "<div>\n",
       "<style scoped>\n",
       "    .dataframe tbody tr th:only-of-type {\n",
       "        vertical-align: middle;\n",
       "    }\n",
       "\n",
       "    .dataframe tbody tr th {\n",
       "        vertical-align: top;\n",
       "    }\n",
       "\n",
       "    .dataframe thead th {\n",
       "        text-align: right;\n",
       "    }\n",
       "</style>\n",
       "<table border=\"1\" class=\"dataframe\">\n",
       "  <thead>\n",
       "    <tr style=\"text-align: right;\">\n",
       "      <th></th>\n",
       "      <th>age</th>\n",
       "      <th>new_user</th>\n",
       "      <th>total_pages_visited</th>\n",
       "      <th>converted</th>\n",
       "    </tr>\n",
       "  </thead>\n",
       "  <tbody>\n",
       "    <tr>\n",
       "      <th>count</th>\n",
       "      <td>316200.000000</td>\n",
       "      <td>316200.000000</td>\n",
       "      <td>316200.000000</td>\n",
       "      <td>316200.000000</td>\n",
       "    </tr>\n",
       "    <tr>\n",
       "      <th>mean</th>\n",
       "      <td>30.569858</td>\n",
       "      <td>0.685465</td>\n",
       "      <td>4.872966</td>\n",
       "      <td>0.032258</td>\n",
       "    </tr>\n",
       "    <tr>\n",
       "      <th>std</th>\n",
       "      <td>8.271802</td>\n",
       "      <td>0.464331</td>\n",
       "      <td>3.341104</td>\n",
       "      <td>0.176685</td>\n",
       "    </tr>\n",
       "    <tr>\n",
       "      <th>min</th>\n",
       "      <td>17.000000</td>\n",
       "      <td>0.000000</td>\n",
       "      <td>1.000000</td>\n",
       "      <td>0.000000</td>\n",
       "    </tr>\n",
       "    <tr>\n",
       "      <th>25%</th>\n",
       "      <td>24.000000</td>\n",
       "      <td>0.000000</td>\n",
       "      <td>2.000000</td>\n",
       "      <td>0.000000</td>\n",
       "    </tr>\n",
       "    <tr>\n",
       "      <th>50%</th>\n",
       "      <td>30.000000</td>\n",
       "      <td>1.000000</td>\n",
       "      <td>4.000000</td>\n",
       "      <td>0.000000</td>\n",
       "    </tr>\n",
       "    <tr>\n",
       "      <th>75%</th>\n",
       "      <td>36.000000</td>\n",
       "      <td>1.000000</td>\n",
       "      <td>7.000000</td>\n",
       "      <td>0.000000</td>\n",
       "    </tr>\n",
       "    <tr>\n",
       "      <th>max</th>\n",
       "      <td>123.000000</td>\n",
       "      <td>1.000000</td>\n",
       "      <td>29.000000</td>\n",
       "      <td>1.000000</td>\n",
       "    </tr>\n",
       "  </tbody>\n",
       "</table>\n",
       "</div>"
      ],
      "text/plain": [
       "                 age       new_user  total_pages_visited      converted\n",
       "count  316200.000000  316200.000000        316200.000000  316200.000000\n",
       "mean       30.569858       0.685465             4.872966       0.032258\n",
       "std         8.271802       0.464331             3.341104       0.176685\n",
       "min        17.000000       0.000000             1.000000       0.000000\n",
       "25%        24.000000       0.000000             2.000000       0.000000\n",
       "50%        30.000000       1.000000             4.000000       0.000000\n",
       "75%        36.000000       1.000000             7.000000       0.000000\n",
       "max       123.000000       1.000000            29.000000       1.000000"
      ]
     },
     "execution_count": 75,
     "metadata": {},
     "output_type": "execute_result"
    }
   ],
   "source": [
    "df.describe()\n",
    "\n",
    "# Note the age has max of 123, according to wikipedia that's impossible"
   ]
  },
  {
   "cell_type": "code",
   "execution_count": 76,
   "id": "fcb462e1",
   "metadata": {},
   "outputs": [
    {
     "data": {
      "image/png": "[encoded data removed]",
      "text/plain": [
       "<Figure size 432x288 with 1 Axes>"
      ]
     },
     "metadata": {
      "needs_background": "light"
     },
     "output_type": "display_data"
    },
    {
     "data": {
      "image/png": "[encoded data removed]",
      "text/plain": [
       "<Figure size 432x288 with 1 Axes>"
      ]
     },
     "metadata": {
      "needs_background": "light"
     },
     "output_type": "display_data"
    },
    {
     "data": {
      "image/png": "[encoded data removed]",
      "text/plain": [
       "<Figure size 432x288 with 1 Axes>"
      ]
     },
     "metadata": {
      "needs_background": "light"
     },
     "output_type": "display_data"
    },
    {
     "data": {
      "image/png": "[encoded data removed]",
      "text/plain": [
       "<Figure size 432x288 with 1 Axes>"
      ]
     },
     "metadata": {
      "needs_background": "light"
     },
     "output_type": "display_data"
    },
    {
     "data": {
      "image/png": "[encoded data removed]",
      "text/plain": [
       "<Figure size 432x288 with 1 Axes>"
      ]
     },
     "metadata": {
      "needs_background": "light"
     },
     "output_type": "display_data"
    },
    {
     "data": {
      "image/png": "[encoded data removed]",
      "text/plain": [
       "<Figure size 432x288 with 1 Axes>"
      ]
     },
     "metadata": {
      "needs_background": "light"
     },
     "output_type": "display_data"
    }
   ],
   "source": [
    "for col in df.columns:\n",
    "    plt.figure()\n",
    "    sns.histplot(df[col])\n",
    "    \n",
    "# plot distribution    \n",
    "# Note, Though total_pages_visited has max values that are\n",
    "# several SD away from the mean, the distribution shows that\n",
    "# it is unlikely outliers"
   ]
  },
  {
   "cell_type": "code",
   "execution_count": 77,
   "id": "0f0c192d",
   "metadata": {},
   "outputs": [
    {
     "data": {
      "text/html": [
       "<div>\n",
       "<style scoped>\n",
       "    .dataframe tbody tr th:only-of-type {\n",
       "        vertical-align: middle;\n",
       "    }\n",
       "\n",
       "    .dataframe tbody tr th {\n",
       "        vertical-align: top;\n",
       "    }\n",
       "\n",
       "    .dataframe thead th {\n",
       "        text-align: right;\n",
       "    }\n",
       "</style>\n",
       "<table border=\"1\" class=\"dataframe\">\n",
       "  <thead>\n",
       "    <tr style=\"text-align: right;\">\n",
       "      <th></th>\n",
       "      <th>country</th>\n",
       "      <th>age</th>\n",
       "      <th>new_user</th>\n",
       "      <th>source</th>\n",
       "      <th>total_pages_visited</th>\n",
       "      <th>converted</th>\n",
       "    </tr>\n",
       "  </thead>\n",
       "  <tbody>\n",
       "    <tr>\n",
       "      <th>154217</th>\n",
       "      <td>US</td>\n",
       "      <td>73</td>\n",
       "      <td>1</td>\n",
       "      <td>Seo</td>\n",
       "      <td>5</td>\n",
       "      <td>0</td>\n",
       "    </tr>\n",
       "    <tr>\n",
       "      <th>192644</th>\n",
       "      <td>US</td>\n",
       "      <td>77</td>\n",
       "      <td>0</td>\n",
       "      <td>Direct</td>\n",
       "      <td>4</td>\n",
       "      <td>0</td>\n",
       "    </tr>\n",
       "    <tr>\n",
       "      <th>265167</th>\n",
       "      <td>US</td>\n",
       "      <td>79</td>\n",
       "      <td>1</td>\n",
       "      <td>Direct</td>\n",
       "      <td>1</td>\n",
       "      <td>0</td>\n",
       "    </tr>\n",
       "    <tr>\n",
       "      <th>295581</th>\n",
       "      <td>UK</td>\n",
       "      <td>111</td>\n",
       "      <td>0</td>\n",
       "      <td>Ads</td>\n",
       "      <td>10</td>\n",
       "      <td>1</td>\n",
       "    </tr>\n",
       "    <tr>\n",
       "      <th>90928</th>\n",
       "      <td>Germany</td>\n",
       "      <td>123</td>\n",
       "      <td>0</td>\n",
       "      <td>Seo</td>\n",
       "      <td>15</td>\n",
       "      <td>1</td>\n",
       "    </tr>\n",
       "  </tbody>\n",
       "</table>\n",
       "</div>"
      ],
      "text/plain": [
       "        country  age  new_user  source  total_pages_visited  converted\n",
       "154217       US   73         1     Seo                    5          0\n",
       "192644       US   77         0  Direct                    4          0\n",
       "265167       US   79         1  Direct                    1          0\n",
       "295581       UK  111         0     Ads                   10          1\n",
       "90928   Germany  123         0     Seo                   15          1"
      ]
     },
     "execution_count": 77,
     "metadata": {},
     "output_type": "execute_result"
    }
   ],
   "source": [
    "df.sort_values(by='age').tail(5)\n",
    "\n",
    "# Remove the top 2"
   ]
  },
  {
   "cell_type": "code",
   "execution_count": 78,
   "id": "51889f84",
   "metadata": {},
   "outputs": [],
   "source": [
    "# Remove outliers\n",
    "df = df[df.age <= 100]"
   ]
  },
  {
   "cell_type": "code",
   "execution_count": 79,
   "id": "eaae51d6",
   "metadata": {},
   "outputs": [
    {
     "data": {
      "text/plain": [
       "country                object\n",
       "age                     int64\n",
       "new_user                int64\n",
       "source                 object\n",
       "total_pages_visited     int64\n",
       "converted               int64\n",
       "dtype: object"
      ]
     },
     "execution_count": 79,
     "metadata": {},
     "output_type": "execute_result"
    }
   ],
   "source": [
    "df.dtypes"
   ]
  },
  {
   "cell_type": "code",
   "execution_count": 93,
   "id": "57ff45af",
   "metadata": {},
   "outputs": [
    {
     "data": {
      "text/plain": [
       "<AxesSubplot:xlabel='country', ylabel='convert_ratio'>"
      ]
     },
     "execution_count": 93,
     "metadata": {},
     "output_type": "execute_result"
    },
    {
     "data": {
      "image/png": "[encoded data removed]",
      "text/plain": [
       "<Figure size 1440x360 with 2 Axes>"
      ]
     },
     "metadata": {
      "needs_background": "light"
     },
     "output_type": "display_data"
    }
   ],
   "source": [
    "# Country\n",
    "fig, ax = plt.subplots(nrows=1, ncols=2,figsize=(20, 5))\n",
    "sns.countplot(data=df, x=\"country\", hue=\"converted\", ax = ax[0])\n",
    "sns.barplot(data=df.groupby('country')['converted'].agg(convert_ratio = 'mean').reset_index(), \n",
    "              x=\"country\", y=\"convert_ratio\", ax = ax[1])"
   ]
  },
  {
   "cell_type": "code",
   "execution_count": 97,
   "id": "ad02d180",
   "metadata": {},
   "outputs": [],
   "source": [
    "# We have several notable findings here\n",
    "# 1. China has a lot of traffic, but the conversion is bad, worthy finding out why\n",
    "# 2. Germany has a high conversion rate, perhaps we should keep digging into this, eg, why? What can we learn\n",
    "# and, apply to other silos, like US? "
   ]
  },
  {
   "cell_type": "code",
   "execution_count": 98,
   "id": "7ea1761c",
   "metadata": {},
   "outputs": [
    {
     "data": {
      "text/plain": [
       "<AxesSubplot:xlabel='age_group', ylabel='convert_ratio'>"
      ]
     },
     "execution_count": 98,
     "metadata": {},
     "output_type": "execute_result"
    },
    {
     "data": {
      "image/png": "[encoded data removed]",
      "text/plain": [
       "<Figure size 1440x360 with 2 Axes>"
      ]
     },
     "metadata": {
      "needs_background": "light"
     },
     "output_type": "display_data"
    }
   ],
   "source": [
    "# Age\n",
    "bins = [0,20, 30, 40, 50, 60, 70, 100]\n",
    "labels = ['20-','20-30', '30-39', '40-49', '50-59', '60-69', '70+']\n",
    "df['age_group'] = pd.cut(df.age, bins, labels = labels)\n",
    "fig, ax = plt.subplots(nrows=1, ncols=2,figsize=(20, 5))\n",
    "sns.countplot(data=df, x=\"age_group\", hue=\"converted\", ax = ax[0])\n",
    "sns.barplot(data=df.groupby('age_group')['converted'].agg(convert_ratio = 'mean').reset_index(), \n",
    "              x=\"age_group\", y=\"convert_ratio\", ax = ax[1])\n"
   ]
  },
  {
   "cell_type": "code",
   "execution_count": 99,
   "id": "c412b515",
   "metadata": {},
   "outputs": [],
   "source": [
    "# younger user are more likely to be converted\n",
    "# Why? Should we better adapt to the old. If yes, may be add features like enlarged text, etc,.?\n",
    "# We are converting really well for the young, might worth the effort of introducing more traffic there with\n",
    "# campaigns targeting the young?"
   ]
  },
  {
   "cell_type": "code",
   "execution_count": 101,
   "id": "7b310369",
   "metadata": {},
   "outputs": [
    {
     "data": {
      "text/plain": [
       "<AxesSubplot:xlabel='new_user', ylabel='convert_ratio'>"
      ]
     },
     "execution_count": 101,
     "metadata": {},
     "output_type": "execute_result"
    },
    {
     "data": {
      "image/png": "[encoded data removed]",
      "text/plain": [
       "<Figure size 1440x360 with 2 Axes>"
      ]
     },
     "metadata": {
      "needs_background": "light"
     },
     "output_type": "display_data"
    }
   ],
   "source": [
    "# New user \n",
    "fig, ax = plt.subplots(nrows=1, ncols=2,figsize=(20, 5))\n",
    "sns.countplot(data=df, x=\"new_user\", hue=\"converted\", ax = ax[0])\n",
    "sns.barplot(data=df.groupby('new_user')['converted'].agg(convert_ratio = 'mean').reset_index(), \n",
    "              x=\"new_user\", y=\"convert_ratio\", ax = ax[1])\n"
   ]
  },
  {
   "cell_type": "code",
   "execution_count": null,
   "id": "cfdab400",
   "metadata": {},
   "outputs": [],
   "source": [
    "# this is sort of intuitive that the two var are coorelated.\n"
   ]
  },
  {
   "cell_type": "code",
   "execution_count": 102,
   "id": "3c0b9359",
   "metadata": {},
   "outputs": [
    {
     "data": {
      "text/plain": [
       "<AxesSubplot:xlabel='source', ylabel='convert_ratio'>"
      ]
     },
     "execution_count": 102,
     "metadata": {},
     "output_type": "execute_result"
    },
    {
     "data": {
      "image/png": "[encoded data removed]",
      "text/plain": [
       "<Figure size 1440x360 with 2 Axes>"
      ]
     },
     "metadata": {
      "needs_background": "light"
     },
     "output_type": "display_data"
    }
   ],
   "source": [
    "# source\n",
    "fig, ax = plt.subplots(nrows=1, ncols=2,figsize=(20, 5))\n",
    "sns.countplot(data=df, x=\"source\", hue=\"converted\", ax = ax[0])\n",
    "sns.barplot(data=df.groupby('source')['converted'].agg(convert_ratio = 'mean').reset_index(), \n",
    "              x=\"source\", y=\"convert_ratio\", ax = ax[1])\n"
   ]
  },
  {
   "cell_type": "code",
   "execution_count": 103,
   "id": "9383f2c0",
   "metadata": {},
   "outputs": [],
   "source": [
    "# A minor unintuitive finding, direct search should come with higher intent, however,\n",
    "# here the conversion for it is lower than the other 2 lower-intent visit. \n",
    "# What is the problem? Seems worth digging into it."
   ]
  },
  {
   "cell_type": "code",
   "execution_count": null,
   "id": "506c4d0d",
   "metadata": {},
   "outputs": [],
   "source": [
    "# source\n",
    "fig, ax = plt.subplots(nrows=1, ncols=2,figsize=(20, 5))\n",
    "sns.countplot(data=df, x=\"source\", hue=\"converted\", ax = ax[0])\n",
    "sns.barplot(data=df.groupby('source')['converted'].agg(convert_ratio = 'mean').reset_index(), \n",
    "              x=\"source\", y=\"convert_ratio\", ax = ax[1])\n"
   ]
  },
  {
   "cell_type": "code",
   "execution_count": 111,
   "id": "c1b9323e",
   "metadata": {},
   "outputs": [
    {
     "data": {
      "text/plain": [
       "<AxesSubplot:xlabel='total_pages_visited_group', ylabel='convert_ratio'>"
      ]
     },
     "execution_count": 111,
     "metadata": {},
     "output_type": "execute_result"
    },
    {
     "data": {
      "image/png": "[encoded data removed]",
      "text/plain": [
       "<Figure size 1440x360 with 2 Axes>"
      ]
     },
     "metadata": {
      "needs_background": "light"
     },
     "output_type": "display_data"
    }
   ],
   "source": [
    "# visits\n",
    "bins = [0,5, 10, 15, 20, 25, 100]\n",
    "labels = ['0-5','5-10', '10-15', '15-20','20-25', '25+']\n",
    "df['total_pages_visited_group'] = pd.cut(df.total_pages_visited, bins, labels = labels)\n",
    "fig, ax = plt.subplots(nrows=1, ncols=2,figsize=(20, 5))\n",
    "sns.countplot(data=df, x=\"total_pages_visited_group\", hue=\"converted\", ax = ax[0])\n",
    "sns.barplot(data=df.groupby('total_pages_visited_group')['converted'].agg(convert_ratio = 'mean').reset_index(), \n",
    "              x=\"total_pages_visited_group\", y=\"convert_ratio\", ax = ax[1])"
   ]
  },
  {
   "cell_type": "code",
   "execution_count": null,
   "id": "13cc0edd",
   "metadata": {},
   "outputs": [],
   "source": [
    "# Also sort of intuitive, users more likely to be converted are more likely to visit the page\n",
    "# However, it is worth noting that users visiting 5-10 times (a large group of users), are having a low \n",
    "# conversion rate, though visiting 5-10 times should suggest that they are already somewhat intrigued.\n",
    "# One good next step might be to analyze their road map."
   ]
  },
  {
   "cell_type": "markdown",
   "id": "bcd49172",
   "metadata": {},
   "source": [
    "# Predict conversion rate"
   ]
  },
  {
   "cell_type": "markdown",
   "id": "e52711e1",
   "metadata": {},
   "source": [
    "Below we test out XGBoost, Logistic regression, and random forest\n",
    "as a good practice.\n",
    "\n",
    "Through the practice, I hope to find a best go-to model for take home\n",
    "\n",
    "PS. You don't need to use every method like I did here, I was just trying to\n",
    "get my hands dirty"
   ]
  },
  {
   "cell_type": "markdown",
   "id": "4d0b6c5d",
   "metadata": {},
   "source": [
    "## XGBoost"
   ]
  },
  {
   "cell_type": "code",
   "execution_count": 112,
   "id": "b5507425",
   "metadata": {},
   "outputs": [],
   "source": [
    "import xgboost as xgb\n",
    "import sklearn"
   ]
  },
  {
   "cell_type": "code",
   "execution_count": 113,
   "id": "9db02978",
   "metadata": {},
   "outputs": [],
   "source": [
    "# preprocessing\n",
    "# Choose to use get_dummies\n",
    "# PS did not use one-hot encoding bc there is really no need to use it, it introduces dummy trap and would make\n",
    "# the calculation slower\n",
    "# did not use label encoder becasue the categorical variable actually doesn't follow a natural order"
   ]
  },
  {
   "cell_type": "code",
   "execution_count": 117,
   "id": "c682699f",
   "metadata": {},
   "outputs": [
    {
     "data": {
      "text/html": [
       "<div>\n",
       "<style scoped>\n",
       "    .dataframe tbody tr th:only-of-type {\n",
       "        vertical-align: middle;\n",
       "    }\n",
       "\n",
       "    .dataframe tbody tr th {\n",
       "        vertical-align: top;\n",
       "    }\n",
       "\n",
       "    .dataframe thead th {\n",
       "        text-align: right;\n",
       "    }\n",
       "</style>\n",
       "<table border=\"1\" class=\"dataframe\">\n",
       "  <thead>\n",
       "    <tr style=\"text-align: right;\">\n",
       "      <th></th>\n",
       "      <th>age</th>\n",
       "      <th>new_user</th>\n",
       "      <th>total_pages_visited</th>\n",
       "      <th>converted</th>\n",
       "      <th>country_Germany</th>\n",
       "      <th>country_UK</th>\n",
       "      <th>country_US</th>\n",
       "      <th>source_Direct</th>\n",
       "      <th>source_Seo</th>\n",
       "    </tr>\n",
       "  </thead>\n",
       "  <tbody>\n",
       "    <tr>\n",
       "      <th>0</th>\n",
       "      <td>25</td>\n",
       "      <td>1</td>\n",
       "      <td>1</td>\n",
       "      <td>0</td>\n",
       "      <td>0</td>\n",
       "      <td>1</td>\n",
       "      <td>0</td>\n",
       "      <td>0</td>\n",
       "      <td>0</td>\n",
       "    </tr>\n",
       "    <tr>\n",
       "      <th>1</th>\n",
       "      <td>23</td>\n",
       "      <td>1</td>\n",
       "      <td>5</td>\n",
       "      <td>0</td>\n",
       "      <td>0</td>\n",
       "      <td>0</td>\n",
       "      <td>1</td>\n",
       "      <td>0</td>\n",
       "      <td>1</td>\n",
       "    </tr>\n",
       "    <tr>\n",
       "      <th>2</th>\n",
       "      <td>28</td>\n",
       "      <td>1</td>\n",
       "      <td>4</td>\n",
       "      <td>0</td>\n",
       "      <td>0</td>\n",
       "      <td>0</td>\n",
       "      <td>1</td>\n",
       "      <td>0</td>\n",
       "      <td>1</td>\n",
       "    </tr>\n",
       "    <tr>\n",
       "      <th>3</th>\n",
       "      <td>39</td>\n",
       "      <td>1</td>\n",
       "      <td>5</td>\n",
       "      <td>0</td>\n",
       "      <td>0</td>\n",
       "      <td>0</td>\n",
       "      <td>0</td>\n",
       "      <td>0</td>\n",
       "      <td>1</td>\n",
       "    </tr>\n",
       "    <tr>\n",
       "      <th>4</th>\n",
       "      <td>30</td>\n",
       "      <td>1</td>\n",
       "      <td>6</td>\n",
       "      <td>0</td>\n",
       "      <td>0</td>\n",
       "      <td>0</td>\n",
       "      <td>1</td>\n",
       "      <td>0</td>\n",
       "      <td>1</td>\n",
       "    </tr>\n",
       "    <tr>\n",
       "      <th>...</th>\n",
       "      <td>...</td>\n",
       "      <td>...</td>\n",
       "      <td>...</td>\n",
       "      <td>...</td>\n",
       "      <td>...</td>\n",
       "      <td>...</td>\n",
       "      <td>...</td>\n",
       "      <td>...</td>\n",
       "      <td>...</td>\n",
       "    </tr>\n",
       "    <tr>\n",
       "      <th>316195</th>\n",
       "      <td>26</td>\n",
       "      <td>1</td>\n",
       "      <td>9</td>\n",
       "      <td>0</td>\n",
       "      <td>0</td>\n",
       "      <td>0</td>\n",
       "      <td>1</td>\n",
       "      <td>0</td>\n",
       "      <td>0</td>\n",
       "    </tr>\n",
       "    <tr>\n",
       "      <th>316196</th>\n",
       "      <td>27</td>\n",
       "      <td>1</td>\n",
       "      <td>6</td>\n",
       "      <td>0</td>\n",
       "      <td>0</td>\n",
       "      <td>0</td>\n",
       "      <td>1</td>\n",
       "      <td>1</td>\n",
       "      <td>0</td>\n",
       "    </tr>\n",
       "    <tr>\n",
       "      <th>316197</th>\n",
       "      <td>25</td>\n",
       "      <td>0</td>\n",
       "      <td>4</td>\n",
       "      <td>0</td>\n",
       "      <td>0</td>\n",
       "      <td>0</td>\n",
       "      <td>0</td>\n",
       "      <td>0</td>\n",
       "      <td>0</td>\n",
       "    </tr>\n",
       "    <tr>\n",
       "      <th>316198</th>\n",
       "      <td>22</td>\n",
       "      <td>0</td>\n",
       "      <td>4</td>\n",
       "      <td>0</td>\n",
       "      <td>0</td>\n",
       "      <td>0</td>\n",
       "      <td>1</td>\n",
       "      <td>0</td>\n",
       "      <td>1</td>\n",
       "    </tr>\n",
       "    <tr>\n",
       "      <th>316199</th>\n",
       "      <td>24</td>\n",
       "      <td>0</td>\n",
       "      <td>4</td>\n",
       "      <td>0</td>\n",
       "      <td>0</td>\n",
       "      <td>1</td>\n",
       "      <td>0</td>\n",
       "      <td>0</td>\n",
       "      <td>0</td>\n",
       "    </tr>\n",
       "  </tbody>\n",
       "</table>\n",
       "<p>316198 rows × 9 columns</p>\n",
       "</div>"
      ],
      "text/plain": [
       "        age  new_user  total_pages_visited  converted  country_Germany  \\\n",
       "0        25         1                    1          0                0   \n",
       "1        23         1                    5          0                0   \n",
       "2        28         1                    4          0                0   \n",
       "3        39         1                    5          0                0   \n",
       "4        30         1                    6          0                0   \n",
       "...     ...       ...                  ...        ...              ...   \n",
       "316195   26         1                    9          0                0   \n",
       "316196   27         1                    6          0                0   \n",
       "316197   25         0                    4          0                0   \n",
       "316198   22         0                    4          0                0   \n",
       "316199   24         0                    4          0                0   \n",
       "\n",
       "        country_UK  country_US  source_Direct  source_Seo  \n",
       "0                1           0              0           0  \n",
       "1                0           1              0           1  \n",
       "2                0           1              0           1  \n",
       "3                0           0              0           1  \n",
       "4                0           1              0           1  \n",
       "...            ...         ...            ...         ...  \n",
       "316195           0           1              0           0  \n",
       "316196           0           1              1           0  \n",
       "316197           0           0              0           0  \n",
       "316198           0           1              0           1  \n",
       "316199           1           0              0           0  \n",
       "\n",
       "[316198 rows x 9 columns]"
      ]
     },
     "execution_count": 117,
     "metadata": {},
     "output_type": "execute_result"
    }
   ],
   "source": [
    "df = pd.get_dummies(df, \n",
    "                    prefix=['country','source'], \n",
    "                    columns = ['country','source'], \n",
    "                    drop_first=True\n",
    "                   ).drop(columns=['age_group', 'total_pages_visited_group'])\n",
    "df"
   ]
  },
  {
   "cell_type": "code",
   "execution_count": 140,
   "id": "df1561ca",
   "metadata": {},
   "outputs": [],
   "source": [
    "X = df.drop(columns=['converted'])\n",
    "y = df['converted']"
   ]
  },
  {
   "cell_type": "code",
   "execution_count": 141,
   "id": "70503c5b",
   "metadata": {},
   "outputs": [],
   "source": [
    "# split X and y into training and testing sets\n",
    "\n",
    "from sklearn.model_selection import train_test_split\n",
    "\n",
    "X_train, X_test, y_train, y_test = train_test_split(X, y, test_size = 0.3, random_state = 0)"
   ]
  },
  {
   "cell_type": "code",
   "execution_count": 142,
   "id": "5cb53007",
   "metadata": {},
   "outputs": [
    {
     "name": "stdout",
     "output_type": "stream",
     "text": [
      "CPU times: user 25.4 s, sys: 3.92 s, total: 29.3 s\n",
      "Wall time: 4.52 s\n"
     ]
    },
    {
     "data": {
      "text/plain": [
       "XGBClassifier(base_score=None, booster=None, callbacks=None,\n",
       "              colsample_bylevel=None, colsample_bynode=None,\n",
       "              colsample_bytree=None, early_stopping_rounds=None,\n",
       "              enable_categorical=False, eval_metric=None, feature_types=None,\n",
       "              gamma=None, gpu_id=None, grow_policy=None, importance_type=None,\n",
       "              interaction_constraints=None, learning_rate=None, max_bin=None,\n",
       "              max_cat_threshold=None, max_cat_to_onehot=None,\n",
       "              max_delta_step=None, max_depth=None, max_leaves=None,\n",
       "              min_child_weight=None, missing=nan, monotone_constraints=None,\n",
       "              n_estimators=100, n_jobs=None, num_parallel_tree=None,\n",
       "              predictor=None, random_state=None, ...)"
      ]
     },
     "execution_count": 142,
     "metadata": {},
     "output_type": "execute_result"
    }
   ],
   "source": [
    "%%time\n",
    "# import XGBClassifier\n",
    "from xgboost import XGBClassifier\n",
    "\n",
    "# fit model to training data\n",
    "# using default para\n",
    "model = XGBClassifier()\n",
    "model.fit(X_train, y_train)"
   ]
  },
  {
   "cell_type": "code",
   "execution_count": 143,
   "id": "6d162e45",
   "metadata": {},
   "outputs": [],
   "source": [
    "y_pred = model.predict(X_test)\n"
   ]
  },
  {
   "cell_type": "code",
   "execution_count": 144,
   "id": "eb740e71",
   "metadata": {},
   "outputs": [
    {
     "name": "stdout",
     "output_type": "stream",
     "text": [
      "XGBoost model precision_score score: 0.8451\n",
      "XGBoost model recall_score score: 0.6878\n",
      "XGBoost model f1_score score: 0.7584\n"
     ]
    }
   ],
   "source": [
    "# check accuracy score\n",
    "from sklearn.metrics import precision_score, recall_score,f1_score\n",
    "\n",
    "print('XGBoost model precision_score score: {0:0.4f}'. format(precision_score(y_test, y_pred)))\n",
    "print('XGBoost model recall_score score: {0:0.4f}'. format(recall_score(y_test, y_pred)))\n",
    "print('XGBoost model f1_score score: {0:0.4f}'. format(f1_score(y_test, y_pred)))"
   ]
  },
  {
   "cell_type": "code",
   "execution_count": 145,
   "id": "1cc594bb",
   "metadata": {},
   "outputs": [
    {
     "data": {
      "text/plain": [
       "array([[91466,   380],\n",
       "       [  941,  2073]])"
      ]
     },
     "execution_count": 145,
     "metadata": {},
     "output_type": "execute_result"
    }
   ],
   "source": [
    "from sklearn import metrics\n",
    "metrics.confusion_matrix(y_test, y_pred)\n",
    "# Highly skewed to the negative class\n",
    "# F-1 score is a better metric to look at than accuracy\n",
    "# Precsion and recall are reasonably strong\n",
    "# hooray, we have a good basline model  \n",
    "# I am sure we can tune the model to increase the metric here\n",
    "# BUT, data take homoe is not about that, it's about business impact\n",
    "# so let's try to have the importance displayed"
   ]
  },
  {
   "cell_type": "code",
   "execution_count": 146,
   "id": "47fd2aa4",
   "metadata": {},
   "outputs": [
    {
     "data": {
      "image/png": "[encoded data removed]",
      "text/plain": [
       "<Figure size 432x288 with 1 Axes>"
      ]
     },
     "metadata": {
      "needs_background": "light"
     },
     "output_type": "display_data"
    }
   ],
   "source": [
    "xgb.plot_importance(model,importance_type='weight')\n",
    "plt.rcParams['figure.figsize'] = [6, 4]\n",
    "plt.show()"
   ]
  },
  {
   "cell_type": "code",
   "execution_count": 147,
   "id": "048c55e6",
   "metadata": {},
   "outputs": [
    {
     "data": {
      "image/png": "[encoded data removed]",
      "text/plain": [
       "<Figure size 432x288 with 1 Axes>"
      ]
     },
     "metadata": {
      "needs_background": "light"
     },
     "output_type": "display_data"
    }
   ],
   "source": [
    "xgb.plot_importance(model,importance_type='gain')\n",
    "plt.rcParams['figure.figsize'] = [6, 4]\n",
    "plt.show()"
   ]
  },
  {
   "cell_type": "code",
   "execution_count": 148,
   "id": "b97ebe5a",
   "metadata": {},
   "outputs": [
    {
     "data": {
      "image/png": "[encoded data removed]",
      "text/plain": [
       "<Figure size 432x288 with 1 Axes>"
      ]
     },
     "metadata": {
      "needs_background": "light"
     },
     "output_type": "display_data"
    }
   ],
   "source": [
    "xgb.plot_importance(model,importance_type='cover')\n",
    "plt.rcParams['figure.figsize'] = [6, 4]\n",
    "plt.show()"
   ]
  },
  {
   "cell_type": "code",
   "execution_count": 149,
   "id": "be8759a9",
   "metadata": {},
   "outputs": [],
   "source": [
    "# As we can see, feature importance is actually not consistent using different methods\n",
    "# of calculating importance\n",
    "# A more consistent approach is to use SHAP values"
   ]
  },
  {
   "cell_type": "code",
   "execution_count": 150,
   "id": "afb434f6",
   "metadata": {},
   "outputs": [
    {
     "name": "stderr",
     "output_type": "stream",
     "text": [
      "ntree_limit is deprecated, use `iteration_range` or model slicing instead.\n"
     ]
    },
    {
     "data": {
      "image/png": "[encoded data removed]",
      "text/plain": [
       "<Figure size 576x338.4 with 2 Axes>"
      ]
     },
     "metadata": {
      "needs_background": "light"
     },
     "output_type": "display_data"
    },
    {
     "name": "stdout",
     "output_type": "stream",
     "text": [
      "CPU times: user 5min 19s, sys: 5.53 s, total: 5min 25s\n",
      "Wall time: 1min 6s\n"
     ]
    }
   ],
   "source": [
    "%%time\n",
    "import xgboost\n",
    "import shap\n",
    "\n",
    "\n",
    "model = xgboost.XGBRegressor().fit(X_train, y_train)\n",
    "\n",
    "# explain the model's predictions using SHAP\n",
    "# (same syntax works for LightGBM, CatBoost, scikit-learn, transformers, Spark, etc.)\n",
    "explainer = shap.Explainer(model)\n",
    "shap_values = explainer(X)\n",
    "\n",
    "\n",
    "shap.summary_plot(shap_values, X)"
   ]
  },
  {
   "cell_type": "code",
   "execution_count": 151,
   "id": "04932a86",
   "metadata": {},
   "outputs": [],
   "source": [
    "# Basically aligned with EDA"
   ]
  },
  {
   "cell_type": "markdown",
   "id": "e7032225",
   "metadata": {},
   "source": [
    "## Logistic regression"
   ]
  },
  {
   "cell_type": "code",
   "execution_count": 195,
   "id": "b18c2aaa",
   "metadata": {},
   "outputs": [],
   "source": [
    "\n",
    "# I chose to use both scikit learn and stats model\n",
    "# let's see which one is more friendly"
   ]
  },
  {
   "cell_type": "code",
   "execution_count": 168,
   "id": "0547fe11",
   "metadata": {},
   "outputs": [
    {
     "name": "stderr",
     "output_type": "stream",
     "text": [
      "lbfgs failed to converge (status=1):\n",
      "STOP: TOTAL NO. of ITERATIONS REACHED LIMIT.\n",
      "\n",
      "Increase the number of iterations (max_iter) or scale the data as shown in:\n",
      "    https://scikit-learn.org/stable/modules/preprocessing.html\n",
      "Please also refer to the documentation for alternative solver options:\n",
      "    https://scikit-learn.org/stable/modules/linear_model.html#logistic-regression\n"
     ]
    }
   ],
   "source": [
    "from sklearn.linear_model import LogisticRegression\n",
    "\n",
    "logisticRegr = LogisticRegression()\n",
    "logisticRegr.fit(X_train, y_train)\n",
    "y_pred = logisticRegr.predict(X_test)"
   ]
  },
  {
   "cell_type": "code",
   "execution_count": 169,
   "id": "875f6517",
   "metadata": {},
   "outputs": [
    {
     "name": "stdout",
     "output_type": "stream",
     "text": [
      "lgr model precision_score score: 0.8495\n",
      "lgr model recall_score score: 0.6818\n",
      "lgr model f1_score score: 0.7565\n"
     ]
    }
   ],
   "source": [
    "# check accuracy score\n",
    "from sklearn.metrics import precision_score, recall_score,f1_score\n",
    "\n",
    "print('lgr model precision_score score: {0:0.4f}'. format(precision_score(y_test, y_pred)))\n",
    "print('lgr model recall_score score: {0:0.4f}'. format(recall_score(y_test, y_pred)))\n",
    "print('lgr model f1_score score: {0:0.4f}'. format(f1_score(y_test, y_pred)))"
   ]
  },
  {
   "cell_type": "code",
   "execution_count": 170,
   "id": "4dbce2da",
   "metadata": {},
   "outputs": [
    {
     "data": {
      "text/plain": [
       "array([[91482,   364],\n",
       "       [  959,  2055]])"
      ]
     },
     "execution_count": 170,
     "metadata": {},
     "output_type": "execute_result"
    }
   ],
   "source": [
    "from sklearn import metrics\n",
    "metrics.confusion_matrix(y_test, y_pred)"
   ]
  },
  {
   "cell_type": "code",
   "execution_count": 196,
   "id": "63f68183",
   "metadata": {},
   "outputs": [],
   "source": [
    "# Actually, it is not that different from XGBoost"
   ]
  },
  {
   "cell_type": "code",
   "execution_count": 172,
   "id": "2eb34aa7",
   "metadata": {},
   "outputs": [
    {
     "data": {
      "text/html": [
       "<div>\n",
       "<style scoped>\n",
       "    .dataframe tbody tr th:only-of-type {\n",
       "        vertical-align: middle;\n",
       "    }\n",
       "\n",
       "    .dataframe tbody tr th {\n",
       "        vertical-align: top;\n",
       "    }\n",
       "\n",
       "    .dataframe thead th {\n",
       "        text-align: right;\n",
       "    }\n",
       "</style>\n",
       "<table border=\"1\" class=\"dataframe\">\n",
       "  <thead>\n",
       "    <tr style=\"text-align: right;\">\n",
       "      <th></th>\n",
       "      <th>coeff</th>\n",
       "    </tr>\n",
       "  </thead>\n",
       "  <tbody>\n",
       "    <tr>\n",
       "      <th>age</th>\n",
       "      <td>-0.076558</td>\n",
       "    </tr>\n",
       "    <tr>\n",
       "      <th>new_user</th>\n",
       "      <td>-1.670427</td>\n",
       "    </tr>\n",
       "    <tr>\n",
       "      <th>total_pages_visited</th>\n",
       "      <td>0.757506</td>\n",
       "    </tr>\n",
       "    <tr>\n",
       "      <th>country_Germany</th>\n",
       "      <td>3.593780</td>\n",
       "    </tr>\n",
       "    <tr>\n",
       "      <th>country_UK</th>\n",
       "      <td>3.349789</td>\n",
       "    </tr>\n",
       "    <tr>\n",
       "      <th>country_US</th>\n",
       "      <td>2.979882</td>\n",
       "    </tr>\n",
       "    <tr>\n",
       "      <th>source_Direct</th>\n",
       "      <td>-0.171791</td>\n",
       "    </tr>\n",
       "    <tr>\n",
       "      <th>source_Seo</th>\n",
       "      <td>-0.008502</td>\n",
       "    </tr>\n",
       "  </tbody>\n",
       "</table>\n",
       "</div>"
      ],
      "text/plain": [
       "                        coeff\n",
       "age                 -0.076558\n",
       "new_user            -1.670427\n",
       "total_pages_visited  0.757506\n",
       "country_Germany      3.593780\n",
       "country_UK           3.349789\n",
       "country_US           2.979882\n",
       "source_Direct       -0.171791\n",
       "source_Seo          -0.008502"
      ]
     },
     "execution_count": 172,
     "metadata": {},
     "output_type": "execute_result"
    }
   ],
   "source": [
    "pd.DataFrame({'coeff': logisticRegr.coef_[0]}, \n",
    "             index=X.columns)"
   ]
  },
  {
   "cell_type": "code",
   "execution_count": 173,
   "id": "178522d7",
   "metadata": {},
   "outputs": [],
   "source": [
    "# Stats model\n",
    "# importing libraries\n",
    "import statsmodels.api as sm"
   ]
  },
  {
   "cell_type": "code",
   "execution_count": 191,
   "id": "43d48d91",
   "metadata": {},
   "outputs": [
    {
     "name": "stderr",
     "output_type": "stream",
     "text": [
      "In a future version of pandas all arguments of concat except for the argument 'objs' will be keyword-only\n"
     ]
    },
    {
     "name": "stdout",
     "output_type": "stream",
     "text": [
      "Optimization terminated successfully.\n",
      "         Current function value: 0.040577\n",
      "         Iterations 11\n"
     ]
    },
    {
     "data": {
      "text/html": [
       "<table class=\"simpletable\">\n",
       "<caption>Logit Regression Results</caption>\n",
       "<tr>\n",
       "  <th>Dep. Variable:</th>       <td>converted</td>    <th>  No. Observations:  </th>  <td>221338</td> \n",
       "</tr>\n",
       "<tr>\n",
       "  <th>Model:</th>                 <td>Logit</td>      <th>  Df Residuals:      </th>  <td>221329</td> \n",
       "</tr>\n",
       "<tr>\n",
       "  <th>Method:</th>                 <td>MLE</td>       <th>  Df Model:          </th>  <td>     8</td> \n",
       "</tr>\n",
       "<tr>\n",
       "  <th>Date:</th>            <td>Fri, 03 Feb 2023</td> <th>  Pseudo R-squ.:     </th>  <td>0.7166</td> \n",
       "</tr>\n",
       "<tr>\n",
       "  <th>Time:</th>                <td>15:03:27</td>     <th>  Log-Likelihood:    </th> <td> -8981.3</td>\n",
       "</tr>\n",
       "<tr>\n",
       "  <th>converged:</th>             <td>True</td>       <th>  LL-Null:           </th> <td> -31692.</td>\n",
       "</tr>\n",
       "<tr>\n",
       "  <th>Covariance Type:</th>     <td>nonrobust</td>    <th>  LLR p-value:       </th>  <td> 0.000</td> \n",
       "</tr>\n",
       "</table>\n",
       "<table class=\"simpletable\">\n",
       "<tr>\n",
       "           <td></td>              <th>coef</th>     <th>std err</th>      <th>z</th>      <th>P>|z|</th>  <th>[0.025</th>    <th>0.975]</th>  \n",
       "</tr>\n",
       "<tr>\n",
       "  <th>const</th>               <td>  -10.2445</td> <td>    0.178</td> <td>  -57.554</td> <td> 0.000</td> <td>  -10.593</td> <td>   -9.896</td>\n",
       "</tr>\n",
       "<tr>\n",
       "  <th>age</th>                 <td>   -0.0771</td> <td>    0.003</td> <td>  -26.984</td> <td> 0.000</td> <td>   -0.083</td> <td>   -0.072</td>\n",
       "</tr>\n",
       "<tr>\n",
       "  <th>new_user</th>            <td>   -1.6873</td> <td>    0.042</td> <td>  -39.890</td> <td> 0.000</td> <td>   -1.770</td> <td>   -1.604</td>\n",
       "</tr>\n",
       "<tr>\n",
       "  <th>total_pages_visited</th> <td>    0.7606</td> <td>    0.007</td> <td>  102.344</td> <td> 0.000</td> <td>    0.746</td> <td>    0.775</td>\n",
       "</tr>\n",
       "<tr>\n",
       "  <th>country_Germany</th>     <td>    3.7836</td> <td>    0.156</td> <td>   24.329</td> <td> 0.000</td> <td>    3.479</td> <td>    4.088</td>\n",
       "</tr>\n",
       "<tr>\n",
       "  <th>country_UK</th>          <td>    3.5791</td> <td>    0.141</td> <td>   25.313</td> <td> 0.000</td> <td>    3.302</td> <td>    3.856</td>\n",
       "</tr>\n",
       "<tr>\n",
       "  <th>country_US</th>          <td>    3.1912</td> <td>    0.137</td> <td>   23.316</td> <td> 0.000</td> <td>    2.923</td> <td>    3.459</td>\n",
       "</tr>\n",
       "<tr>\n",
       "  <th>source_Direct</th>       <td>   -0.2158</td> <td>    0.058</td> <td>   -3.693</td> <td> 0.000</td> <td>   -0.330</td> <td>   -0.101</td>\n",
       "</tr>\n",
       "<tr>\n",
       "  <th>source_Seo</th>          <td>   -0.0343</td> <td>    0.048</td> <td>   -0.719</td> <td> 0.472</td> <td>   -0.128</td> <td>    0.059</td>\n",
       "</tr>\n",
       "</table><br/><br/>Possibly complete quasi-separation: A fraction 0.32 of observations can be<br/>perfectly predicted. This might indicate that there is complete<br/>quasi-separation. In this case some parameters will not be identified."
      ],
      "text/plain": [
       "<class 'statsmodels.iolib.summary.Summary'>\n",
       "\"\"\"\n",
       "                           Logit Regression Results                           \n",
       "==============================================================================\n",
       "Dep. Variable:              converted   No. Observations:               221338\n",
       "Model:                          Logit   Df Residuals:                   221329\n",
       "Method:                           MLE   Df Model:                            8\n",
       "Date:                Fri, 03 Feb 2023   Pseudo R-squ.:                  0.7166\n",
       "Time:                        15:03:27   Log-Likelihood:                -8981.3\n",
       "converged:                       True   LL-Null:                       -31692.\n",
       "Covariance Type:            nonrobust   LLR p-value:                     0.000\n",
       "=======================================================================================\n",
       "                          coef    std err          z      P>|z|      [0.025      0.975]\n",
       "---------------------------------------------------------------------------------------\n",
       "const                 -10.2445      0.178    -57.554      0.000     -10.593      -9.896\n",
       "age                    -0.0771      0.003    -26.984      0.000      -0.083      -0.072\n",
       "new_user               -1.6873      0.042    -39.890      0.000      -1.770      -1.604\n",
       "total_pages_visited     0.7606      0.007    102.344      0.000       0.746       0.775\n",
       "country_Germany         3.7836      0.156     24.329      0.000       3.479       4.088\n",
       "country_UK              3.5791      0.141     25.313      0.000       3.302       3.856\n",
       "country_US              3.1912      0.137     23.316      0.000       2.923       3.459\n",
       "source_Direct          -0.2158      0.058     -3.693      0.000      -0.330      -0.101\n",
       "source_Seo             -0.0343      0.048     -0.719      0.472      -0.128       0.059\n",
       "=======================================================================================\n",
       "\n",
       "Possibly complete quasi-separation: A fraction 0.32 of observations can be\n",
       "perfectly predicted. This might indicate that there is complete\n",
       "quasi-separation. In this case some parameters will not be identified.\n",
       "\"\"\""
      ]
     },
     "execution_count": 191,
     "metadata": {},
     "output_type": "execute_result"
    }
   ],
   "source": [
    "#add constant to predictor variables\n",
    "X_cons = sm.add_constant(X_train)\n",
    "\n",
    "#fit linear regression model\n",
    "model = sm.Logit(y_train, X_cons).fit()\n",
    "\n",
    "#view model summary\n",
    "model.summary()"
   ]
  },
  {
   "cell_type": "code",
   "execution_count": 194,
   "id": "35cabb4c",
   "metadata": {},
   "outputs": [
    {
     "name": "stderr",
     "output_type": "stream",
     "text": [
      "In a future version of pandas all arguments of concat except for the argument 'objs' will be keyword-only\n"
     ]
    },
    {
     "name": "stdout",
     "output_type": "stream",
     "text": [
      "lgr_stats_model precision_score score: 0.8496\n",
      "lgr_stats_model recall_score score: 0.6825\n",
      "lgr_stats_model f1_score score: 0.7569\n"
     ]
    },
    {
     "data": {
      "text/plain": [
       "array([[91482,   364],\n",
       "       [  957,  2057]])"
      ]
     },
     "execution_count": 194,
     "metadata": {},
     "output_type": "execute_result"
    }
   ],
   "source": [
    "y_pred = list(map(round, model.predict(sm.add_constant(X_test))))\n",
    "# check accuracy score\n",
    "\n",
    "\n",
    "print('lgr_stats_model precision_score score: {0:0.4f}'. format(precision_score(y_test, y_pred)))\n",
    "print('lgr_stats_model recall_score score: {0:0.4f}'. format(recall_score(y_test, y_pred)))\n",
    "print('lgr_stats_model f1_score score: {0:0.4f}'. format(f1_score(y_test, y_pred)))\n",
    "\n",
    "from sklearn import metrics\n",
    "metrics.confusion_matrix(y_test, y_pred)"
   ]
  },
  {
   "cell_type": "code",
   "execution_count": 197,
   "id": "8dcf3b88",
   "metadata": {},
   "outputs": [],
   "source": [
    "# Results actually not that different\n",
    "# stats model seems require more effort\n",
    "# since you need to add constant, and round the result\n",
    "# I'd prefer sklearn over it"
   ]
  },
  {
   "cell_type": "markdown",
   "id": "3e91837b",
   "metadata": {},
   "source": [
    "## Random forest"
   ]
  },
  {
   "cell_type": "code",
   "execution_count": 206,
   "id": "c97576b8",
   "metadata": {},
   "outputs": [],
   "source": [
    "from sklearn.ensemble import RandomForestClassifier"
   ]
  },
  {
   "cell_type": "code",
   "execution_count": 208,
   "id": "ea4fb70f",
   "metadata": {},
   "outputs": [
    {
     "name": "stdout",
     "output_type": "stream",
     "text": [
      "CPU times: user 6.28 s, sys: 223 ms, total: 6.51 s\n",
      "Wall time: 7.45 s\n"
     ]
    }
   ],
   "source": [
    "%%time\n",
    "random_forest_clf = RandomForestClassifier()\n",
    "random_forest_clf.fit(X_train, y_train)\n",
    "y_pred = logisticRegr.predict(X_test)\n"
   ]
  },
  {
   "cell_type": "code",
   "execution_count": 209,
   "id": "805d5a7f",
   "metadata": {},
   "outputs": [
    {
     "name": "stdout",
     "output_type": "stream",
     "text": [
      "random_forest precision_score score: 0.8495\n",
      "random_forest recall_score score: 0.6818\n",
      "random_forest f1_score score: 0.7565\n"
     ]
    },
    {
     "data": {
      "text/plain": [
       "array([[91482,   364],\n",
       "       [  959,  2055]])"
      ]
     },
     "execution_count": 209,
     "metadata": {},
     "output_type": "execute_result"
    }
   ],
   "source": [
    "print('random_forest precision_score score: {0:0.4f}'. format(precision_score(y_test, y_pred)))\n",
    "print('random_forest recall_score score: {0:0.4f}'. format(recall_score(y_test, y_pred)))\n",
    "print('random_forest f1_score score: {0:0.4f}'. format(f1_score(y_test, y_pred)))\n",
    "\n",
    "from sklearn import metrics\n",
    "metrics.confusion_matrix(y_test, y_pred)"
   ]
  },
  {
   "cell_type": "code",
   "execution_count": 211,
   "id": "aeb6a89c",
   "metadata": {},
   "outputs": [],
   "source": [
    "# Since it's tree model, the feature importance is kinda hard\n",
    "# to interpret. the result would look similar as the XGBoost, I guess\n",
    "# the baseline model actually doesn't vary that much"
   ]
  },
  {
   "cell_type": "code",
   "execution_count": 212,
   "id": "7b646fa3",
   "metadata": {},
   "outputs": [],
   "source": [
    "# Summary\n",
    "# Predict conversion rate: achieved 75% F-1 score in a skewed class, which builds a good benchmark\n",
    "# if have more time to tune, the results will be better\n",
    "\n",
    "\n",
    "# Recommendations:\n",
    "# See Exploratory analysis section"
   ]
  },
  {
   "cell_type": "code",
   "execution_count": 213,
   "id": "26983a57",
   "metadata": {},
   "outputs": [],
   "source": [
    "# Reflection\n",
    "\n",
    "# In data challenge, you don't really need to have the best model. If you have an okay one,\n",
    "# that's probably enought, let people know that it is improvable, but no need to actully improve it.\n",
    "# more importantly is to uncover the actions from the data, supported by\n",
    "# the model."
   ]
  }
 ],
 "metadata": {
  "kernelspec": {
   "display_name": "Python 3 (ipykernel)",
   "language": "python",
   "name": "python3"
  },
  "language_info": {
   "codemirror_mode": {
    "name": "ipython",
    "version": 3
   },
   "file_extension": ".py",
   "mimetype": "text/x-python",
   "name": "python",
   "nbconvert_exporter": "python",
   "pygments_lexer": "ipython3",
   "version": "3.9.7"
  }
 },
 "nbformat": 4,
 "nbformat_minor": 5
}
